{
 "cells": [
  {
   "cell_type": "markdown",
   "metadata": {
    "id": "fD4Qab2qYgOm"
   },
   "source": [
    "안녕하세요. 수강생 여러분~! \n",
    "\n",
    "Chapter01 ~ 13의 수업 내용을 바탕으로 아래 문제를 풀어주시면 됩니다 !\n",
    "\n",
    "지금까지 잘 해오셨으니까, 총 복습한다고 생각하시고 한번 도전해보세요 !!!\n",
    "\n",
    "\n",
    "<br>\n",
    "\n",
    "\n",
    "[**답변 입력 방법**]\n",
    "\n",
    "문제 아래에 있는 코드 입력창에 정답코드를 작성하신 후  __▷ 버튼을 클릭해 코드를 실행__ 해보세요<br>"
   ]
  },
  {
   "cell_type": "markdown",
   "metadata": {},
   "source": [
    "---"
   ]
  },
  {
   "cell_type": "markdown",
   "metadata": {},
   "source": [
    "### 프로젝트: 간단한 ATM 관리 시스템\n",
    "<br>\n",
    "\n",
    "__[문제 1: 잔액 확인]__\n",
    "\n",
    "현재 잔액은 1000원입니다. 현재 잔액을 출력하세요. \n",
    "\n",
    "(변수명 예시 : 잔액 - balance)"
   ]
  },
  {
   "cell_type": "code",
   "execution_count": 14,
   "metadata": {},
   "outputs": [
    {
     "name": "stdout",
     "output_type": "stream",
     "text": [
      "[Debug]: 시범 동작 입니다.\n",
      "- 이용 가능 메뉴\n",
      "입금 , 출금 , 송금 , 종료\n",
      "잔고 : 1000\n",
      "이용해주셔서 감하삽니다\n"
     ]
    }
   ],
   "source": [
    "\n",
    "from enum import Enum\n",
    "\n",
    "class Gender(Enum):\n",
    "\tMALE = \"male\"\n",
    "\tFEMALE = \"female\"\n",
    "\tOTHER = \"other\"\n",
    "\n",
    "class Session():\n",
    "    receipt = []\n",
    "    def current_user(self,user):\n",
    "        self.user = user\n",
    "    def print_receipt(self):\n",
    "        print(f\"{self.user.last_name}{self.user.first_name}님의 이용내역\")\n",
    "        for r in self.receipt:\n",
    "            print(f\"{r[0]}: {r[1]} 잔액: {r[2]}\")\n",
    "\n",
    "class Banker():\n",
    "    def send():\n",
    "        pass\n",
    "    def withdraw():\n",
    "        pass\n",
    "class User():\n",
    "    first_name = \"\"\n",
    "    last_name = \"\"\n",
    "    gender: Gender = None\n",
    "    balance = 0\n",
    "    key = \"\"\n",
    "    id = \"\"\n",
    "    pw = \"\"\n",
    "    def check_balance(self,value) -> bool:\n",
    "        if self.balance < value:\n",
    "            print(\"금액이 부족합니다\")\n",
    "        return self.balance >= value\n",
    "    def verify_user(self,id,pw):\n",
    "        if id == self.id and pw == self.pw:\n",
    "            print(f\"{self.id} verifed\")\n",
    "        else:\n",
    "            print(f\"wrong id or pw\")\n",
    "\n",
    "class System():\n",
    "    user:User = None\n",
    "    def reset(self):\n",
    "        self.session = Session()\n",
    "        self.user = None\n",
    "    def test_run(self):\n",
    "        print(\"[Debug]: 시범 동작 입니다.\")\n",
    "        self.user = User()\n",
    "        self.user.balance = 1000\n",
    "        self.session.current_user(self.user)\n",
    "\n",
    "    def add(self):\n",
    "        bal = int(input(\"현금을 넣어주세요 : \"))\n",
    "        if bal <= 0:\n",
    "            print(\"잘못된 금액입니다\")\n",
    "            self.add()\n",
    "        else:\n",
    "            self.user.balance += bal\n",
    "            self.session.receipt.append((\"입금\",bal,self.user.balance))\n",
    "            print(f\"입금처리 되었습니다. 금액: {bal} 잔고: {self.user.balance}\")\n",
    "            self.system_loop()\n",
    "    \n",
    "    def send(self):\n",
    "        bal = int(input(\"송금할 금액을 입력해주세요 : \"))\n",
    "        if bal <= 0:\n",
    "                print(\"잘못된 금액입니다\")\n",
    "                self.send()\n",
    "        else:\n",
    "            if self.user.check_balance(bal):\n",
    "                self.user.balance -= bal\n",
    "                print(f\"송금처리 되었습니다. 금액: {bal} 잔고: {self.user.balance}\")\n",
    "                self.session.receipt.append((\"송금\",bal,self.user.balance))\n",
    "                self.system_loop()\n",
    "    def withdraw(self):\n",
    "        bal = int(input(\"출금할 금액을 입력해주세요 : \"))\n",
    "        if bal <= 0:\n",
    "                print(\"잘못된 금액입니다\")\n",
    "                self.withdraw()\n",
    "        else:\n",
    "            if not self.user.check_balance(bal):\n",
    "                bal = self.user.balance\n",
    "            self.user.balance -= bal\n",
    "            print(f\"출금처리 되었습니다. 금액: {bal} 잔고: {self.user.balance}\")\n",
    "            self.session.receipt.append((\"출금\",bal,self.user.balance))\n",
    "            self.system_loop()\n",
    "    \n",
    "    def system_loop(self):\n",
    "        if not self.user:\n",
    "            input(\"카드를 넣어주세요\")\n",
    "            self.test_run()\n",
    "            self.system_loop()\n",
    "        else:\n",
    "            print(\"- 이용 가능 메뉴\")\n",
    "            print(\"입금 , 출금 , 송금 , 종료\")\n",
    "            print(f\"잔고 : {self.user.balance}\")\n",
    "            choice = input(\"메뉴를 선택해주세요:\")\n",
    "            if choice == \"입금\":\n",
    "                self.add()\n",
    "            elif choice == \"출금\":\n",
    "                self.withdraw()\n",
    "            elif choice == \"송금\":\n",
    "                self.send()\n",
    "            elif choice == \"종료\":\n",
    "                if len(self.session.receipt) > 0:\n",
    "                    choice = input(\"영수증을 출력하시겠습니까? (예/아니오)\")\n",
    "                    if choice == \"예\":\n",
    "                        self.session.print_receipt()\n",
    "                        print(\"이용해주셔서 감사합니다\")\n",
    "                        self.user = None\n",
    "                else:\n",
    "                    print(\"이용해주셔서 감하삽니다\")\n",
    "                    self.user = None\n",
    "            else:\n",
    "                print(\"잘못된 입력입니다\")\n",
    "                self.system_loop()\n",
    "    def logout(self):\n",
    "        self.reset()\n",
    "\n",
    "system = System()\n",
    "system.reset()\n",
    "system.system_loop()\n"
   ]
  },
  {
   "cell_type": "markdown",
   "metadata": {},
   "source": [
    "__[문제 2: 입금]__\n",
    "\n",
    "가지고 있는 돈을 입금합니다.\n",
    "\n",
    "입금 금액을 입력받고, 잔액을 갱신한 후 새로운 잔액을 출력하세요. 입금 거래를 영수증 리스트에 기록하세요.\n",
    "\n",
    "- 입금 금액은 input()을 이용해 받습니다.\n",
    "- 영수증은 list()로 선언합니다.\n",
    "- 영수증에 들어가는 정보는 튜플 형태입니다.\n",
    "- 튜플에 담기는 정보는 (입금 or 출금, 입금 or 출금 금액, 현재 잔액)순 입니다.\n",
    "\n",
    "(변수명 예시: 영수증 리스트 - receipts, 입금 금액 - deposit_amount)\n"
   ]
  },
  {
   "cell_type": "code",
   "execution_count": 12,
   "metadata": {},
   "outputs": [
    {
     "name": "stdout",
     "output_type": "stream",
     "text": [
      "[Debug]: 시범 동작 입니다.\n",
      "- 이용 가능 메뉴\n",
      "입금 , 출금 , 송금 , 종료\n",
      "잔고 : 1000\n",
      "입금처리 되었습니다. 금액: 500 잔고: 1500\n",
      "- 이용 가능 메뉴\n",
      "입금 , 출금 , 송금 , 종료\n",
      "잔고 : 1500\n"
     ]
    }
   ],
   "source": [
    "system.system_loop()"
   ]
  },
  {
   "cell_type": "markdown",
   "metadata": {},
   "source": [
    "__[문제 3: 출금]__\n",
    "\n",
    "사용자가 돈을 출금합니다. 출금 금액을 입력받고, 잔액을 갱신한 후 새로운 잔액을 출력하세요. 출금 거래를 영수증 리스트에 기록하세요. \n",
    "\n",
    "- 출금 금액은 input()을 이용해 받습니다.\n",
    "- 현재 잔액보다 출금 요청 금액이 많을 경우 현재 잔액 만큼만 출금되도록 합니다.\n",
    "- 영수증에 들어가는 정보는 튜플 형태입니다.\n",
    "- 튜플에 담기는 정보는 (입금 or 출금, 입금 or 출금 금액, 현재 잔액)순 입니다.\n",
    "\n",
    "(변수명 예시: 출금금액 - withdraw_amount)"
   ]
  },
  {
   "cell_type": "code",
   "execution_count": 15,
   "metadata": {},
   "outputs": [
    {
     "name": "stdout",
     "output_type": "stream",
     "text": [
      "[Debug]: 시범 동작 입니다.\n",
      "- 이용 가능 메뉴\n",
      "입금 , 출금 , 송금 , 종료\n",
      "잔고 : 1000\n",
      "금액이 부족합니다\n",
      "출금처리 되었습니다. 금액: 1000 잔고: 0\n",
      "- 이용 가능 메뉴\n",
      "입금 , 출금 , 송금 , 종료\n",
      "잔고 : 0\n"
     ]
    }
   ],
   "source": [
    "system.system_loop()"
   ]
  },
  {
   "cell_type": "markdown",
   "metadata": {},
   "source": [
    "__[문제 4: 모든 거래 내역 확인]__\n",
    "\n",
    "모든 거래 내역(영수증)을 요청받았을 때 출력하세요.\n",
    "- 지금까지 영수증에 추가된 정보를 출력합니다.\n",
    "- 출력 형태는 자유입니다."
   ]
  },
  {
   "cell_type": "code",
   "execution_count": 16,
   "metadata": {},
   "outputs": [
    {
     "name": "stdout",
     "output_type": "stream",
     "text": [
      "[Debug]: 시범 동작 입니다.\n",
      "- 이용 가능 메뉴\n",
      "입금 , 출금 , 송금 , 종료\n",
      "잔고 : 1000\n",
      "입금처리 되었습니다. 금액: 2000 잔고: 3000\n",
      "- 이용 가능 메뉴\n",
      "입금 , 출금 , 송금 , 종료\n",
      "잔고 : 3000\n",
      "출금처리 되었습니다. 금액: 500 잔고: 2500\n",
      "- 이용 가능 메뉴\n",
      "입금 , 출금 , 송금 , 종료\n",
      "잔고 : 2500\n",
      "출금처리 되었습니다. 금액: 500 잔고: 2000\n",
      "- 이용 가능 메뉴\n",
      "입금 , 출금 , 송금 , 종료\n",
      "잔고 : 2000\n",
      "님의 이용내역\n",
      "출금: 1000 잔액: 0\n",
      "입금: 2000 잔액: 3000\n",
      "출금: 500 잔액: 2500\n",
      "출금: 500 잔액: 2000\n",
      "이용해주셔서 감사합니다\n"
     ]
    }
   ],
   "source": [
    "system.reset()\n",
    "system.system_loop()"
   ]
  }
 ],
 "metadata": {
  "colab": {
   "authorship_tag": "ABX9TyOA/CeX7CUdbTKFxV0fsocV",
   "provenance": []
  },
  "kernelspec": {
   "display_name": "Python 3",
   "name": "python3"
  },
  "language_info": {
   "codemirror_mode": {
    "name": "ipython",
    "version": 3
   },
   "file_extension": ".py",
   "mimetype": "text/x-python",
   "name": "python",
   "nbconvert_exporter": "python",
   "pygments_lexer": "ipython3",
   "version": "3.13.6"
  }
 },
 "nbformat": 4,
 "nbformat_minor": 0
}
