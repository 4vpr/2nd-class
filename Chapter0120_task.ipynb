{
 "cells": [
  {
   "cell_type": "markdown",
   "metadata": {
    "id": "aLkxKxnFLowa"
   },
   "source": [
    "안녕하세요. 수강생 여러분~! Chapter17 ~ 20 수업은 잘 들으셨나요?\n",
    "\n",
    "Chapter01 ~ 20의 수업 내용을 바탕으로 아래 문제를 풀어주시면 됩니다.\n",
    "\n",
    "저번에 했던 \"붕어빵 자동 판매 시스템\"을 리팩토링 해봅시다 !!!\n",
    "\n",
    "못해도 괜찮아요 ! 같이 해봅시다 !\n",
    "\n",
    "<br>\n",
    "\n",
    "\n",
    "[**답변 입력 방법**]\n",
    "\n",
    "문제 아래에 있는 코드 입력창에 정답코드를 작성하신 후  __▷ 버튼을 클릭해 코드를 실행__ 해보세요<br>"
   ]
  },
  {
   "cell_type": "markdown",
   "metadata": {},
   "source": [
    "### 리팩토링 과제\n",
    "\n",
    "Day4에서 만든 \"붕어빵 자동 판매 시스템\"은 절차적 코드로 구현되어있습니다.\n",
    "<br>\n",
    "\n",
    "Day5에서 배운 함수, 클래스 개념을 적용시켜 객체지향적으로 리팩토링을 진행해주세요\n"
   ]
  },
  {
   "cell_type": "code",
   "execution_count": 4,
   "metadata": {},
   "outputs": [
    {
     "name": "stdout",
     "output_type": "stream",
     "text": [
      "붕어빵 장사 시스템\n",
      "\n",
      "명령어를 입력해주세요:\n",
      "admin name value    name 재고를 value 만큼 추가\n",
      "sell name value     name 을 value 갯수만큼 판매\n",
      "sales               현재 매출액을 출력\n",
      "status              현재 상품들의 가격과 재고를 출력\n",
      "exit                프로그램 종료\n",
      "\n",
      "exit\n",
      "매출액: 0\n"
     ]
    }
   ],
   "source": [
    "# 리팩토링 과제 힌트\n",
    "# 구조는 아래와 같습니다.\n",
    "\n",
    "\n",
    "class Shop:\n",
    "    def __init__(self):\n",
    "        self.stock = {\"팥\" : 10, \"슈크림\": 8, \"초코\": 5}\n",
    "        self.price = {\"팥\" : 1000, \"슈크림\": 1200, \"초코\": 1500}\n",
    "        self.sales = {\"팥\" : 0, \"슈크림\": 0, \"초코\": 0}\n",
    "    def check_stock(self):\n",
    "        for (key , value) in self.stock.items():\n",
    "            print(key,end=\": \")\n",
    "            print(value)\n",
    "\n",
    "    def process_order(self, bread_type:str, bread_count:int):\n",
    "        if bread_type in self.stock.keys():\n",
    "            if bread_count < self.stock[bread_type]:\n",
    "                self.stock[bread_type] -= bread_count\n",
    "                self.sales[bread_type] += bread_count\n",
    "                print(\"주문이 처리되었습니다.\")\n",
    "            else: print(\"재고가 부족합니다.\")\n",
    "        else: print(\"잘못된 주문입니다.\")\n",
    "    def admin_mode(self,bread_type,bread_count):\n",
    "        if bread_type in self.stock.keys() and bread_count * -1 < self.stock[bread_type]:\n",
    "            self.stock[bread_type] += bread_count\n",
    "            print(\"재고 수정 완료.\")\n",
    "        else: print(\"잘못된 입력입니다.\")\n",
    "\n",
    "    def calculate_total_sales(self):\n",
    "        r = 0\n",
    "        for key , value in self.sales.items():\n",
    "            r += self.price[key] * value\n",
    "        print(f\"매출액: {r}\")\n",
    "        return r\n",
    "    def __str__(self):\n",
    "        _str = \"\"\n",
    "        for key in self.stock:\n",
    "            _str += f\"({key}) 재고: {self.stock[key]}, 가격: {self.price[key]} \"\n",
    "        return _str\n",
    "def main_loop(shop:Shop):\n",
    "    try:\n",
    "        command = input()\n",
    "        print(command)\n",
    "        commands = command.split(\" \")\n",
    "        if commands[0] == \"status\" : print(shop)\n",
    "        elif commands[0] == \"sell\":\n",
    "            shop.process_order(commands[1],int(commands[2]))\n",
    "        elif commands[0] == \"admin\":\n",
    "            shop.admin_mode(commands[1],int(commands[2]))\n",
    "        elif commands[0] == \"sales\": shop.calculate_total_sales()\n",
    "        elif commands[0] == \"exit\" :\n",
    "            with open(\"sale.txt\",'w',encoding='UTF-8') as f:\n",
    "                f.write(str(shop.calculate_total_sales()))\n",
    "            return()\n",
    "    except:\n",
    "        print(\"잘못된 입력입니다.\")\n",
    "        return()\n",
    "    main_loop(shop)\n",
    "def main():\n",
    "    print(\"붕어빵 장사 시스템\")\n",
    "    print(\n",
    "\"\"\"\n",
    "명령어를 입력해주세요:\n",
    "admin name value    name 재고를 value 만큼 추가\n",
    "sell name value     name 을 value 갯수만큼 판매\n",
    "sales               현재 매출액을 출력\n",
    "status              현재 상품들의 가격과 재고를 출력\n",
    "exit                프로그램 종료\n",
    "\"\"\")\n",
    "    shop = Shop()\n",
    "    main_loop(shop)\n",
    "\n",
    "if __name__ == \"__main__\":\n",
    "    main()\n"
   ]
  },
  {
   "cell_type": "markdown",
   "metadata": {},
   "source": [
    "__BungeoppangShop 클래스__\n",
    "\n",
    "- __init__(): 초기 재고, 가격, 판매량을 설정합니다.\n",
    "- check_stock(): 현재 재고를 출력합니다.\n",
    "- process_order(): 주문을 처리하고 재고를 업데이트합니다.\n",
    "- admin_mode(): 관리자 모드에서 재고를 추가합니다.\n",
    "- calculate_total_sales(): 총 매출을 계산하고 출력합니다."
   ]
  },
  {
   "cell_type": "markdown",
   "metadata": {},
   "source": [
    "__[과제 1: 초기화 메서드 __init__]__\n",
    "\n",
    "목표: __init__ 메서드를 구현하여 붕어빵 가게의 초기 재고, 가격, 판매량을 설정합니다.\n",
    "\n",
    "설명: self.stock, self.prices, self.sales 딕셔너리를 초기화하세요.\n",
    "- stock \n",
    "    - \"팥붕어빵\": 10\n",
    "    - \"슈크림붕어빵\": 8\n",
    "    - \"초코붕어빵\": 5\n",
    "\n",
    "- prices\n",
    "    - \"팥붕어빵\": 1000\n",
    "    - \"슈크림붕어빵\": 1200\n",
    "    - \"초코붕어빵\": 1500\n",
    "\n",
    "- sales\n",
    "    - \"팥붕어빵\": 0,\n",
    "    - \"슈크림붕어빵\": 0,\n",
    "    - \"초코붕어빵\": 0"
   ]
  },
  {
   "cell_type": "code",
   "execution_count": 54,
   "metadata": {},
   "outputs": [],
   "source": [
    "shop = Shop()"
   ]
  },
  {
   "cell_type": "markdown",
   "metadata": {},
   "source": [
    "__[과제 2: 재고 확인 메서드 check_stock]__\n",
    "\n",
    "목표: check_stock 함수를 구현하여 현재 붕어빵 재고를 출력합니다.\n",
    "\n",
    "설명: self.stock 딕셔너리를 순회하며 각 붕어빵의 종류와 재고를 출력하세요.\n"
   ]
  },
  {
   "cell_type": "code",
   "execution_count": null,
   "metadata": {},
   "outputs": [
    {
     "name": "stdout",
     "output_type": "stream",
     "text": [
      "팥: 10\n",
      "슈크림: 8\n",
      "초코: 5\n"
     ]
    }
   ],
   "source": [
    "shop = Shop()\n",
    "shop.check_stock()"
   ]
  },
  {
   "cell_type": "markdown",
   "metadata": {},
   "source": [
    "__[과제 3: 주문 처리 메서드 process_order]__\n",
    "\n",
    "목표: process_order 함수를 구현하여 손님의 주문을 처리하고 재고를 업데이트합니다.\n",
    "\n",
    "설명: bread_type과 bread_count를 매개변수로 받아, 재고를 확인하고 충분한 경우 재고를 감소시키고 판매량을 증가시킵니다. 재고가 부족하거나 잘못된 붕어빵 종류인 경우 적절한 메시지를 출력하세요."
   ]
  },
  {
   "cell_type": "code",
   "execution_count": 56,
   "metadata": {},
   "outputs": [
    {
     "name": "stdout",
     "output_type": "stream",
     "text": [
      "잘못된 주문입니다.\n",
      "재고가 부족합니다.\n",
      "주문이 처리되었습니다.\n"
     ]
    }
   ],
   "source": [
    "shop = Shop()\n",
    "shop.process_order(\"테스트\",10)\n",
    "shop.process_order(\"초코\",10000)\n",
    "shop.process_order(\"팥\",1)"
   ]
  },
  {
   "cell_type": "markdown",
   "metadata": {},
   "source": [
    "__[과제 4: 관리자 모드 메서드 admin_mode]__\n",
    "\n",
    "목표: admin_mode 메서드를 구현하여 관리자 모드에서 재고를 추가할 수 있도록 합니다.\n",
    "\n",
    "설명: bread_type과 additional_stock을 입력받아 재고를 추가합니다. 잘못된 입력 값이 들어온 경우 적절한 메시지를 출력하세요."
   ]
  },
  {
   "cell_type": "code",
   "execution_count": 57,
   "metadata": {},
   "outputs": [
    {
     "name": "stdout",
     "output_type": "stream",
     "text": [
      "주문이 처리되었습니다.\n",
      "주문이 처리되었습니다.\n",
      "주문이 처리되었습니다.\n"
     ]
    }
   ],
   "source": [
    "shop = Shop()\n",
    "shop.admin_mode(\"팥\",100)\n",
    "shop.admin_mode(\"슈크림\",10)\n",
    "shop.admin_mode(\"초코\",5)\n"
   ]
  },
  {
   "cell_type": "markdown",
   "metadata": {},
   "source": [
    "\n",
    "__[과제 5: 매출 계산 메서드 calculate_total_sales]__\n",
    "\n",
    "목표: calculate_total_sales 메서드를 구현하여 총 매출을 계산하고 출력합니다.\n",
    "\n",
    "설명: self.sales와 self.prices를 사용하여 총 매출을 계산하고 출력하세요."
   ]
  },
  {
   "cell_type": "code",
   "execution_count": 63,
   "metadata": {},
   "outputs": [
    {
     "name": "stdout",
     "output_type": "stream",
     "text": [
      "재고 수정 완료.\n",
      "재고 수정 완료.\n",
      "재고 수정 완료.\n",
      "주문이 처리되었습니다.\n",
      "주문이 처리되었습니다.\n",
      "주문이 처리되었습니다.\n",
      "매출액: 100061500\n"
     ]
    },
    {
     "data": {
      "text/plain": [
       "100061500"
      ]
     },
     "execution_count": 63,
     "metadata": {},
     "output_type": "execute_result"
    }
   ],
   "source": [
    "shop = Shop()\n",
    "shop.admin_mode(\"팥\",100000000000)\n",
    "shop.admin_mode(\"슈크림\",100000)\n",
    "shop.admin_mode(\"초코\",500000000)\n",
    "shop.process_order(\"초코\",1)\n",
    "shop.process_order(\"팥\",100000)\n",
    "shop.process_order(\"슈크림\",50)\n",
    "shop.calculate_total_sales()\n"
   ]
  },
  {
   "cell_type": "markdown",
   "metadata": {},
   "source": [
    "__[과제 6: 메인 함수 main]__\n",
    "\n",
    "목표: main 함수를 작성하여 프로그램의 주요 로직을 실행합니다.\n",
    "\n",
    "설명:\n",
    "- BungeoppangShop 객체를 생성합니다.\n",
    "- 사용자에게 모드를 선택하도록 요청합니다.\n",
    "- \"주문\" 모드에서는 손님의 주문을 처리하고, \"관리자\" 모드에서는 재고를 추가할 수 있습니다.\n",
    "- 프로그램이 종료될 때 총 매출을 계산하고 데이터를 저장합니다.\n"
   ]
  },
  {
   "cell_type": "code",
   "execution_count": null,
   "metadata": {},
   "outputs": [],
   "source": []
  },
  {
   "cell_type": "markdown",
   "metadata": {},
   "source": [
    "__[과제 7: 최종 BungeoppangShop 클래스]__\n",
    "\n",
    "함수로 리팩토링한 \"붕어빵 자동 판매 시스템\" 작성 후 실행합니다. "
   ]
  },
  {
   "cell_type": "code",
   "execution_count": null,
   "metadata": {},
   "outputs": [],
   "source": []
  }
 ],
 "metadata": {
  "colab": {
   "authorship_tag": "ABX9TyMfxSNOybrh/E7+DQqfYMY3",
   "provenance": []
  },
  "kernelspec": {
   "display_name": "Python 3",
   "name": "python3"
  },
  "language_info": {
   "codemirror_mode": {
    "name": "ipython",
    "version": 3
   },
   "file_extension": ".py",
   "mimetype": "text/x-python",
   "name": "python",
   "nbconvert_exporter": "python",
   "pygments_lexer": "ipython3",
   "version": "3.13.6"
  }
 },
 "nbformat": 4,
 "nbformat_minor": 0
}
