{
 "cells": [
  {
   "cell_type": "markdown",
   "metadata": {
    "id": "WXEwMsfUct7U"
   },
   "source": [
    "안녕하세요.<br><br>\n",
    "수강생 여러분~! Chapter05 ~ 08 수업은 잘 들으셨나요?\n",
    "\n",
    "Chapter05 ~ 08의 수업 내용을 바탕으로 아래 문제를 풀어주시면 됩니다.\n",
    "\n",
    "<br>\n",
    "\n",
    "\n",
    "[**답변 입력 방법**]\n",
    "\n",
    "문제 아래에 있는 코드 입력창에 정답코드를 작성하신 후  __▷ 버튼을 클릭해 코드를 실행__ 해보세요<br>"
   ]
  },
  {
   "cell_type": "markdown",
   "metadata": {
    "id": "qoyC9wF-3hvs"
   },
   "source": [
    "-----"
   ]
  },
  {
   "cell_type": "markdown",
   "metadata": {},
   "source": [
    "## 모험가들의 레벨업 도전\n",
    "\n",
    "### [배경 이야기]\n",
    "\n",
    "당신은 마법사, 전사, 도적, 힐러 네 명의 모험가를 이끄는 리더입니다. \n",
    "\n",
    "각 캐릭터는 힘, 민첩, 지능, 체력이라는 능력치를 가지고 있습니다. 이 능력치들을 이용해 다양한 도전을 해결하고 사냥을 통해 경험치를 얻어 레벨업을 해야 합니다.\n",
    "\n",
    "<br>\n",
    "\n",
    "### [동료 캐릭터와 능력치 정보]\n",
    "\n",
    "마법사: 힘(10), 민첩(20), 지능(80), 체력(50)\n",
    "\n",
    "전사: 힘(80), 민첩(30), 지능(20), 체력(100)\n",
    "\n",
    "도적: 힘(40), 민첩(80), 지능(30), 체력(60)\n",
    "\n",
    "힐러: 힘(20), 민첩(40), 지능(70), 체력(70)\n",
    "\n",
    "<br>\n",
    "\n",
    "* 변수명을 영어로 변경해서 풀어보세요 !"
   ]
  },
  {
   "cell_type": "markdown",
   "metadata": {},
   "source": [
    "<br>\n",
    "\n",
    "__[문제 1: 첫 번째 사냥]__\n",
    "\n",
    "마법사는 몬스터를 사냥하기 위해 마법을 사용합니다. \n",
    "\n",
    "마법을 사용하려면 지능이 50 이상이어야 합니다. \n",
    "\n",
    "마법사의 지능이 50 이상인지 확인하세요."
   ]
  },
  {
   "cell_type": "code",
   "execution_count": null,
   "metadata": {},
   "outputs": [
    {
     "name": "stdout",
     "output_type": "stream",
     "text": [
      "마법사의 화염구! 50의 피해를 입혔다\n"
     ]
    },
    {
     "data": {
      "text/plain": [
       "True"
      ]
     },
     "execution_count": 35,
     "metadata": {},
     "output_type": "execute_result"
    }
   ],
   "source": [
    "class Stat():\n",
    "    def __init__(self,p,s,i,h):\n",
    "        self._pow = p\n",
    "        self._spd = s\n",
    "        self._int = i\n",
    "        self._hp = h\n",
    "    _pow = 0\n",
    "    _spd = 0\n",
    "    _int = 0\n",
    "    _hp = 0\n",
    "class Skill():\n",
    "    damage = 0\n",
    "    name = \"\"\n",
    "    req = Stat(0,0,0,0)\n",
    "    req_or = False\n",
    "    def __init__(self,name,req_stat,req_or,damage):\n",
    "        self.req = req_stat\n",
    "        self.damage = damage\n",
    "        self.name = name\n",
    "        self.req_or = req_or\n",
    "class Character():\n",
    "    def __init__(self,name,stat,skill):\n",
    "        self.stat = stat\n",
    "        self.hp = stat._hp\n",
    "        self.skill = skill\n",
    "        self.name = name\n",
    "    stat: Stat\n",
    "    skill: Skill\n",
    "    name = \"\"\n",
    "    hp = 0\n",
    "    lv = 1\n",
    "    exp = 0\n",
    "    def cast(self) -> bool:\n",
    "        _or = False\n",
    "        _and = True\n",
    "        _or = self.skill.req._pow < self.stat._pow or _or\n",
    "        _or = self.skill.req._spd < self.stat._spd or _or\n",
    "        _or = self.skill.req._int < self.stat._int or _or\n",
    "        _or = self.skill.req._hp < self.stat._hp or _or\n",
    "        _and = self.skill.req._pow < self.stat._pow and _and\n",
    "        _and = self.skill.req._spd < self.stat._spd and _and\n",
    "        _and = self.skill.req._int < self.stat._int and _and\n",
    "        _and = self.skill.req._hp < self.stat._hp or _and\n",
    "\n",
    "        if (_or and self.skill.req_or) or (_and and not self.skill.req_or):\n",
    "            if self.skill.damage >= 0:\n",
    "                print(f\"{self.name}의 {self.skill.name}! {self.skill.damage}의 치유를 했다\")\n",
    "            else:\n",
    "                print(f\"{self.name}의 {self.skill.name}! {self.skill.damage * -1}의 피해를 입혔다\")\n",
    "            return True\n",
    "        else:\n",
    "            return False\n",
    "    def check_exp(self) -> bool:\n",
    "        if self.exp >= 100:\n",
    "            self.lv += 1\n",
    "            self.exp -= 100\n",
    "            print(f\"{self.name}: Lv.{self.lv}로 레벨업 하였다\")\n",
    "            return True\n",
    "        else:\n",
    "            print(f\"{self.name}: 아직 경험치가 부족하다 남은경험치: {100 - self.exp} \")\n",
    "            return False\n",
    "\n",
    "fireball = Skill(\"화염구\",Stat(0,0,50,0),False,-50)\n",
    "heal = Skill(\"치유\",Stat(10,10,30,0),False,+50)\n",
    "dodge_attack = Skill(\"회피공격\",Stat(0,50,0,0),True,-65)\n",
    "strike = Skill(\"내려찍기\",Stat(60,0,0,80),False,-80)\n",
    "\n",
    "mage = Character(\"마법사\",Stat(10,20,80,50),fireball)\n",
    "warrior = Character(\"전사\",Stat(80,30,20,100),strike)\n",
    "rogue = Character(\"도적\",Stat(40,80,30,60),dodge_attack)\n",
    "healer = Character(\"힐러\",Stat(20,40,70,70),heal)\n",
    "\n",
    "mage.cast()"
   ]
  },
  {
   "cell_type": "markdown",
   "metadata": {},
   "source": [
    "<br>\n",
    "\n",
    "__[문제 2: 두 번째 사냥]__\n",
    "\n",
    "전사는 강력한 공격을 하기 위해 자신의 힘을 사용합니다. \n",
    "\n",
    "전사의 힘이 60 이상이고 체력이 80 이상인지 확인하세요."
   ]
  },
  {
   "cell_type": "code",
   "execution_count": 37,
   "metadata": {},
   "outputs": [
    {
     "name": "stdout",
     "output_type": "stream",
     "text": [
      "전사의 내려찍기! 80의 피해를 입혔다\n"
     ]
    },
    {
     "data": {
      "text/plain": [
       "True"
      ]
     },
     "execution_count": 37,
     "metadata": {},
     "output_type": "execute_result"
    }
   ],
   "source": [
    "warrior.cast()"
   ]
  },
  {
   "cell_type": "markdown",
   "metadata": {},
   "source": [
    "<br>\n",
    "\n",
    "__[문제 3: 세 번째 사냥]__\n",
    "\n",
    "도적은 민첩함을 이용해 몬스터를 회피하고 공격합니다. \n",
    "\n",
    "도적의 민첩이 70 이상이거나 힘이 50 이상인지 확인하세요."
   ]
  },
  {
   "cell_type": "code",
   "execution_count": 38,
   "metadata": {},
   "outputs": [
    {
     "name": "stdout",
     "output_type": "stream",
     "text": [
      "도적의 회피공격! 65의 피해를 입혔다\n"
     ]
    },
    {
     "data": {
      "text/plain": [
       "True"
      ]
     },
     "execution_count": 38,
     "metadata": {},
     "output_type": "execute_result"
    }
   ],
   "source": [
    "rogue.cast()"
   ]
  },
  {
   "cell_type": "markdown",
   "metadata": {},
   "source": [
    "<br>\n",
    "\n",
    "__[문제 4: 네 번째 사냥]__\n",
    "\n",
    "힐러는 파티의 체력을 회복시키기 위해 마법을 사용합니다. \n",
    "\n",
    "힐러의 지능이 60 이상이고, 체력이 50 이상인지 확인하세요."
   ]
  },
  {
   "cell_type": "code",
   "execution_count": 39,
   "metadata": {},
   "outputs": [
    {
     "name": "stdout",
     "output_type": "stream",
     "text": [
      "힐러의 치유! 50의 치유를 했다\n"
     ]
    },
    {
     "data": {
      "text/plain": [
       "True"
      ]
     },
     "execution_count": 39,
     "metadata": {},
     "output_type": "execute_result"
    }
   ],
   "source": [
    "healer.cast()"
   ]
  },
  {
   "cell_type": "markdown",
   "metadata": {},
   "source": [
    "<br>\n",
    "\n",
    "__[문제 5: 레벨업]__\n",
    "\n",
    "모든 캐릭터가 사냥을 성공적으로 마쳤습니다. 이제 경험치를 얻어 레벨업을 해야 합니다. \n",
    "\n",
    "\n",
    "각 캐릭터의 경험치가 100 이상인지 print()를 이용해 확인해주세요.\n",
    "\n",
    "<br>\n",
    "\n",
    "경험치는 아래와 같습니다.\n",
    "\n",
    "마법사: 120\n",
    "\n",
    "전사: 150\n",
    "\n",
    "도적: 110\n",
    "\n",
    "힐러: 90\n",
    "\n"
   ]
  },
  {
   "cell_type": "code",
   "execution_count": 40,
   "metadata": {},
   "outputs": [
    {
     "name": "stdout",
     "output_type": "stream",
     "text": [
      "마법사: Lv.2로 레벨업 하였다\n",
      "전사: Lv.2로 레벨업 하였다\n",
      "도적: Lv.2로 레벨업 하였다\n",
      "힐러: 아직 경험치가 부족하다 남은경험치: 10 \n"
     ]
    },
    {
     "data": {
      "text/plain": [
       "False"
      ]
     },
     "execution_count": 40,
     "metadata": {},
     "output_type": "execute_result"
    }
   ],
   "source": [
    "mage.exp = 120\n",
    "warrior.exp = 150\n",
    "rogue.exp = 110\n",
    "healer.exp = 90\n",
    "mage.check_exp()\n",
    "warrior.check_exp()\n",
    "rogue.check_exp()\n",
    "healer.check_exp()"
   ]
  }
 ],
 "metadata": {
  "colab": {
   "authorship_tag": "ABX9TyP7YKA5FdtGggYfD74V7SMJ",
   "provenance": []
  },
  "kernelspec": {
   "display_name": "Python 3",
   "name": "python3"
  },
  "language_info": {
   "codemirror_mode": {
    "name": "ipython",
    "version": 3
   },
   "file_extension": ".py",
   "mimetype": "text/x-python",
   "name": "python",
   "nbconvert_exporter": "python",
   "pygments_lexer": "ipython3",
   "version": "3.13.6"
  }
 },
 "nbformat": 4,
 "nbformat_minor": 0
}
